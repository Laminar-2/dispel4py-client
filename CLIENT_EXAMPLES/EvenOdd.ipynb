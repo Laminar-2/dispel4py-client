{
 "cells": [
  {
   "attachments": {},
   "cell_type": "markdown",
   "metadata": {},
   "source": [
    "## Even Odd with Serverless Framework"
   ]
  },
  {
   "attachments": {},
   "cell_type": "markdown",
   "metadata": {},
   "source": [
    "The original example can be found at: https://github.com/rosafilgueira/dispel4py_training_material/blob/master/dispel4py-tutorial/dispel4py_example_EvenOdd/EvenOddworkflow.ipynb\n",
    "\n",
    "This example uses the serverless framework to execute the workflow given above and provides alternative methods of execution"
   ]
  },
  {
   "attachments": {},
   "cell_type": "markdown",
   "metadata": {},
   "source": [
    "Prior set-up"
   ]
  },
  {
   "cell_type": "code",
   "execution_count": null,
   "metadata": {},
   "outputs": [],
   "source": [
    "#Auto-load and set directory\n",
    "%load_ext autoreload\n",
    "%autoreload 2\n",
    "\n",
    "import os\n",
    "import sys\n",
    "import inspect\n",
    "\n",
    "currentdir = os.path.dirname(os.path.abspath(inspect.getfile(inspect.currentframe())))\n",
    "parentdir = os.path.dirname(currentdir)\n",
    "sys.path.insert(0, parentdir)"
   ]
  },
  {
   "attachments": {},
   "cell_type": "markdown",
   "metadata": {},
   "source": [
    "Import serverless client module along with required dispel4py modules"
   ]
  },
  {
   "cell_type": "code",
   "execution_count": null,
   "metadata": {},
   "outputs": [],
   "source": [
    "from dispel4py.base import *\n",
    "from dispel4py.workflow_graph import WorkflowGraph\n",
    "from client import d4pClient\n",
    "import random"
   ]
  },
  {
   "attachments": {},
   "cell_type": "markdown",
   "metadata": {},
   "source": [
    "Create PEs "
   ]
  },
  {
   "cell_type": "code",
   "execution_count": null,
   "metadata": {},
   "outputs": [],
   "source": [
    "class NumberProducer(ProducerPE):\n",
    "    def __init__(self):\n",
    "        ProducerPE.__init__(self)\n",
    "        \n",
    "    def _process(self , inputs):\n",
    "        result= random.randint(1, 1000)\n",
    "        return result\n",
    "        #OR: self.write('output', result)\n",
    "\n",
    "class Divideby2(IterativePE):\n",
    "\n",
    "    def __init__(self, compare):\n",
    "        IterativePE.__init__(self)\n",
    "        self.compare = compare\n",
    "\n",
    "    def _process(self, data):\n",
    "        if data % 2 == self.compare:\n",
    "            return data\n",
    "\n",
    "class PairProducer(GenericPE):\n",
    "\n",
    "    def __init__(self):\n",
    "        GenericPE.__init__(self)\n",
    "        self._add_input(\"odd\")\n",
    "        self._add_input(\"even\")\n",
    "        self._add_output(\"output\")\n",
    "        self.list_odd=[]\n",
    "        self.list_even=[]\n",
    "\n",
    "    def _process(self, inputs):\n",
    "        if \"odd\" in inputs:\n",
    "            self.list_odd.append(inputs[\"odd\"])\n",
    "        if \"even\" in inputs:\n",
    "            self.list_even.append(inputs[\"even\"])\n",
    "       \n",
    "        while self.list_odd and self.list_even:\n",
    "            self.write(\"output\", (self.list_odd.pop(0), self.list_even.pop(0)))\n",
    "    \n",
    "    def _postprocess(self):\n",
    "        self.log('We are left behind: odd: %s, even: %s' % (self.list_odd, self.list_even))\n",
    "        self.list_odd = []\n",
    "        self.list_even = []"
   ]
  },
  {
   "attachments": {},
   "cell_type": "markdown",
   "metadata": {},
   "source": [
    "#### Option 1: Direct Execution"
   ]
  },
  {
   "attachments": {},
   "cell_type": "markdown",
   "metadata": {},
   "source": [
    "Create PE object from each class "
   ]
  },
  {
   "cell_type": "code",
   "execution_count": null,
   "metadata": {},
   "outputs": [],
   "source": [
    "client = d4pClient()\n",
    "\n",
    "producer = NumberProducer()\n",
    "filter_even = Divideby2(0)\n",
    "filter_odd = Divideby2(1)\n",
    "pair = PairProducer()"
   ]
  },
  {
   "attachments": {},
   "cell_type": "markdown",
   "metadata": {},
   "source": [
    "Create workflow from PEs"
   ]
  },
  {
   "cell_type": "code",
   "execution_count": null,
   "metadata": {},
   "outputs": [],
   "source": [
    "graph = WorkflowGraph()\n",
    "graph.connect(producer, 'output', filter_even, 'input')\n",
    "graph.connect(producer, 'output', filter_odd, 'input')\n",
    "graph.connect(filter_even, 'output', pair, 'even')\n",
    "graph.connect(filter_odd, 'output', pair, 'odd')"
   ]
  },
  {
   "attachments": {},
   "cell_type": "markdown",
   "metadata": {},
   "source": [
    "Execute workflow directly"
   ]
  },
  {
   "cell_type": "code",
   "execution_count": null,
   "metadata": {},
   "outputs": [],
   "source": [
    "result = client.run(graph,input=20)\n",
    "\n",
    "print(result)"
   ]
  },
  {
   "attachments": {},
   "cell_type": "markdown",
   "metadata": {},
   "source": [
    "#### Option 2: Use Registry"
   ]
  },
  {
   "attachments": {},
   "cell_type": "markdown",
   "metadata": {},
   "source": [
    "Register PEs"
   ]
  },
  {
   "cell_type": "code",
   "execution_count": null,
   "metadata": {},
   "outputs": [],
   "source": [
    "pe_1 = client.register_PE(producer)\n",
    "pe_2 = client.register_PE(filter_even)\n",
    "pe_3 = client.register_PE(pair)"
   ]
  },
  {
   "attachments": {},
   "cell_type": "markdown",
   "metadata": {},
   "source": [
    "Retrieve PE from Registry"
   ]
  },
  {
   "cell_type": "code",
   "execution_count": null,
   "metadata": {},
   "outputs": [],
   "source": [
    "producer_pe = client.get_PE(pe_1)\n",
    "filter_pe = client.get_PE(pe_2)\n",
    "pair_pe = client.get_PE(pe_3)"
   ]
  },
  {
   "attachments": {},
   "cell_type": "markdown",
   "metadata": {},
   "source": [
    "Construct workflow from PEs"
   ]
  },
  {
   "cell_type": "code",
   "execution_count": null,
   "metadata": {},
   "outputs": [],
   "source": [
    "#Set compare variable for DivideBy2 PE \n",
    "filter_even_pe = filter_pe\n",
    "filter_even_pe.compare = 0\n",
    "\n",
    "filter_odd_pe = filter_pe\n",
    "filter_odd_pe.compare = 1\n",
    "\n",
    "graph = WorkflowGraph()\n",
    "graph.connect(producer_pe, 'output', filter_even_pe, 'input')\n",
    "graph.connect(producer_pe, 'output', filter_odd_pe, 'input')\n",
    "graph.connect(filter_even_pe, 'output', pair_pe, 'even')\n",
    "graph.connect(filter_odd_pe, 'output', pair_pe, 'odd')"
   ]
  },
  {
   "attachments": {},
   "cell_type": "markdown",
   "metadata": {},
   "source": [
    "Execute workflow"
   ]
  },
  {
   "cell_type": "code",
   "execution_count": null,
   "metadata": {},
   "outputs": [],
   "source": [
    "result = client.run(graph,input=20)\n",
    "\n",
    "print(result)"
   ]
  }
 ],
 "metadata": {
  "kernelspec": {
   "display_name": "Python 3",
   "language": "python",
   "name": "python3"
  },
  "language_info": {
   "codemirror_mode": {
    "name": "ipython",
    "version": 3
   },
   "file_extension": ".py",
   "mimetype": "text/x-python",
   "name": "python",
   "nbconvert_exporter": "python",
   "pygments_lexer": "ipython3",
   "version": "3.9.4"
  },
  "orig_nbformat": 4,
  "vscode": {
   "interpreter": {
    "hash": "c364789c182aef115b4435048eacd5a552e6b9fa177968138d579586f79f02a4"
   }
  }
 },
 "nbformat": 4,
 "nbformat_minor": 2
}
