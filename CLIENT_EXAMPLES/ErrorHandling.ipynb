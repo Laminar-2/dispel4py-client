{
 "cells": [
  {
   "attachments": {},
   "cell_type": "markdown",
   "metadata": {},
   "source": [
    "## Error Handling"
   ]
  },
  {
   "attachments": {},
   "cell_type": "markdown",
   "metadata": {},
   "source": [
    "Testing error handling for Client operations"
   ]
  },
  {
   "attachments": {},
   "cell_type": "markdown",
   "metadata": {},
   "source": [
    "Import client methods "
   ]
  },
  {
   "cell_type": "code",
   "execution_count": null,
   "metadata": {},
   "outputs": [],
   "source": [
    "#Auto-load and set directory\n",
    "%load_ext autoreload\n",
    "%autoreload 2\n",
    "\n",
    "import os\n",
    "import sys\n",
    "import inspect\n",
    "\n",
    "currentdir = os.path.dirname(os.path.abspath(inspect.getfile(inspect.currentframe())))\n",
    "parentdir = os.path.dirname(currentdir)\n",
    "sys.path.insert(0, parentdir)"
   ]
  },
  {
   "cell_type": "code",
   "execution_count": 49,
   "metadata": {},
   "outputs": [
    {
     "name": "stdout",
     "output_type": "stream",
     "text": [
      "The autoreload extension is already loaded. To reload it, use:\n",
      "  %reload_ext autoreload\n"
     ]
    }
   ],
   "source": [
    "from dispel4py.dispel4py.base import *\n",
    "from dispel4py.dispel4py.workflow_graph import WorkflowGraph\n",
    "import random\n",
    "\n",
    "from client import d4pClient\n",
    "client = d4pClient()"
   ]
  },
  {
   "attachments": {},
   "cell_type": "markdown",
   "metadata": {},
   "source": [
    "#### Processing Element Operations"
   ]
  },
  {
   "attachments": {},
   "cell_type": "markdown",
   "metadata": {},
   "source": [
    "register_PE"
   ]
  },
  {
   "cell_type": "code",
   "execution_count": 51,
   "metadata": {},
   "outputs": [
    {
     "name": "stderr",
     "output_type": "stream",
     "text": [
      "ERROR:web_client:PE already exists for parameters {peName=NumberProducer}\n",
      "ERROR:web_client:PE already exists for parameters {peName=NumberProducer}\n"
     ]
    }
   ],
   "source": [
    "class NumberProducer(ProducerPE):\n",
    "    \n",
    "    def __init__(self):\n",
    "        ProducerPE.__init__(self)\n",
    "        \n",
    "    def _process(self, inputs):\n",
    "        result= random.randint(1, 1000)\n",
    "        return result\n",
    "\n",
    "producer = NumberProducer()\n",
    "\n",
    "#Registring \n",
    "client.register_PE(producer,\"Produces Numbers\")\n",
    "\n",
    "#Re-registering the same PE\n",
    "client.register_PE(producer,\"Number Producer\")\n",
    "\n"
   ]
  },
  {
   "attachments": {},
   "cell_type": "markdown",
   "metadata": {},
   "source": [
    "get_PE"
   ]
  },
  {
   "cell_type": "code",
   "execution_count": 52,
   "metadata": {},
   "outputs": [
    {
     "name": "stderr",
     "output_type": "stream",
     "text": [
      "ERROR:web_client:PE was not found for parameters {id=5}\n",
      "ERROR:web_client:PE was not found for parameters {peName=Counter}\n"
     ]
    }
   ],
   "source": [
    "#Get PE by ID\n",
    "client.get_PE(5)\n",
    "\n",
    "#Get PE by Name\n",
    "client.get_PE(\"Counter\")"
   ]
  },
  {
   "attachments": {},
   "cell_type": "markdown",
   "metadata": {},
   "source": [
    "remove_PE"
   ]
  },
  {
   "cell_type": "code",
   "execution_count": 53,
   "metadata": {},
   "outputs": [
    {
     "name": "stderr",
     "output_type": "stream",
     "text": [
      "ERROR:web_client:Could not find PE 'Producer' to remove\n",
      "ERROR:web_client:Could not find PE with ID 5 to remove\n"
     ]
    }
   ],
   "source": [
    "#remove PE by Name\n",
    "client.remove_PE(\"Producer\")\n",
    "\n",
    "#remove PE by ID\n",
    "client.remove_PE(5)"
   ]
  },
  {
   "attachments": {},
   "cell_type": "markdown",
   "metadata": {},
   "source": [
    "#### Workflow Operations"
   ]
  },
  {
   "attachments": {},
   "cell_type": "markdown",
   "metadata": {},
   "source": [
    "register_Workflow"
   ]
  },
  {
   "cell_type": "code",
   "execution_count": 56,
   "metadata": {},
   "outputs": [
    {
     "name": "stderr",
     "output_type": "stream",
     "text": [
      "ERROR:web_client:Workflow already exists for parameters {entryPoint=primeGraph}\n",
      "ERROR:web_client:Workflow already exists for parameters {entryPoint=primeGraph}\n"
     ]
    }
   ],
   "source": [
    "class IsPrime(IterativePE):\n",
    "    def __init__(self):\n",
    "        IterativePE.__init__(self)\n",
    "    def _process(self, num):\n",
    "        self.log(\"before checking data - %s - is prime or not\" % num)\n",
    "        if all(num % i for i in range(2, num)):\n",
    "            return num\n",
    "\n",
    "isprime = IsPrime()\n",
    "graph = WorkflowGraph()\n",
    "graph.connect(producer, 'output', isprime, 'input')\n",
    "\n",
    "#Registering workflow\n",
    "client.register_Workflow(graph,\"primeGraph\",\"This graph deals with prime numbers\")\n",
    "\n",
    "#Re-registering workflow \n",
    "client.register_Workflow(graph,\"primeGraph\",\"This is the same graph which deals with prime numbers\")\n"
   ]
  },
  {
   "attachments": {},
   "cell_type": "markdown",
   "metadata": {},
   "source": [
    "get_Workflow"
   ]
  },
  {
   "cell_type": "code",
   "execution_count": 57,
   "metadata": {},
   "outputs": [
    {
     "name": "stderr",
     "output_type": "stream",
     "text": [
      "ERROR:web_client:Workflow was not found for parameters {entryPoint=someGraph}\n",
      "ERROR:web_client:Workflow was not found for parameters {id=4}\n"
     ]
    }
   ],
   "source": [
    "#get workflow by name\n",
    "client.get_Workflow(\"someGraph\")\n",
    "\n",
    "#get workflow by id\n",
    "client.get_Workflow(4)"
   ]
  },
  {
   "attachments": {},
   "cell_type": "markdown",
   "metadata": {},
   "source": [
    "remove_Workflow"
   ]
  },
  {
   "cell_type": "code",
   "execution_count": 59,
   "metadata": {},
   "outputs": [
    {
     "name": "stderr",
     "output_type": "stream",
     "text": [
      "ERROR:web_client:Could not find Workflow 'someGraph' to remove\n",
      "ERROR:web_client:Could not find Workflow with ID 4 to remove\n"
     ]
    }
   ],
   "source": [
    "#remove workflow by name\n",
    "client.remove_Workflow(\"someGraph\")\n",
    "\n",
    "#remove workflow by id\n",
    "client.remove_Workflow(4)"
   ]
  },
  {
   "attachments": {},
   "cell_type": "markdown",
   "metadata": {},
   "source": [
    "#### Execution Operations"
   ]
  },
  {
   "attachments": {},
   "cell_type": "markdown",
   "metadata": {},
   "source": [
    "run"
   ]
  },
  {
   "cell_type": "code",
   "execution_count": 61,
   "metadata": {},
   "outputs": [
    {
     "name": "stderr",
     "output_type": "stream",
     "text": [
      "ERROR:web_client:Workflow was not found for parameters {entryPoint=someGraph}\n",
      "ERROR:web_client:Workflow was not found for parameters {id=4}\n"
     ]
    }
   ],
   "source": [
    "#run workflow by name\n",
    "client.run(\"someGraph\")\n",
    "\n",
    "#run workflow by id\n",
    "client.run(4)"
   ]
  }
 ],
 "metadata": {
  "kernelspec": {
   "display_name": "Python 3",
   "language": "python",
   "name": "python3"
  },
  "language_info": {
   "codemirror_mode": {
    "name": "ipython",
    "version": 3
   },
   "file_extension": ".py",
   "mimetype": "text/x-python",
   "name": "python",
   "nbconvert_exporter": "python",
   "pygments_lexer": "ipython3",
   "version": "3.9.4 (tags/v3.9.4:1f2e308, Apr  6 2021, 13:40:21) [MSC v.1928 64 bit (AMD64)]"
  },
  "orig_nbformat": 4,
  "vscode": {
   "interpreter": {
    "hash": "c364789c182aef115b4435048eacd5a552e6b9fa177968138d579586f79f02a4"
   }
  }
 },
 "nbformat": 4,
 "nbformat_minor": 2
}
