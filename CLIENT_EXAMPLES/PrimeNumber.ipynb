{
 "cells": [
  {
   "attachments": {},
   "cell_type": "markdown",
   "metadata": {},
   "source": [
    "## Check Prime Number with Serverless Framework"
   ]
  },
  {
   "attachments": {},
   "cell_type": "markdown",
   "metadata": {},
   "source": [
    "The original example can be found at: https://github.com/rosafilgueira/dispel4py_training_material/blob/master/dispel4py_simple_workflow_collection/Testing_dispel4py.ipynb\n",
    "\n",
    "This example uses the serverless framework to execute the workflow given above"
   ]
  },
  {
   "attachments": {},
   "cell_type": "markdown",
   "metadata": {},
   "source": [
    "Prior set-up "
   ]
  },
  {
   "cell_type": "code",
   "execution_count": null,
   "metadata": {},
   "outputs": [],
   "source": [
    "import os\n",
    "import sys\n",
    "import inspect\n",
    "\n",
    "currentdir = os.path.dirname(os.path.abspath(inspect.getfile(inspect.currentframe())))\n",
    "parentdir = os.path.dirname(currentdir)\n",
    "sys.path.insert(0, parentdir)"
   ]
  },
  {
   "attachments": {},
   "cell_type": "markdown",
   "metadata": {},
   "source": [
    "Import serverless client module along with required dispel4py modules"
   ]
  },
  {
   "cell_type": "code",
   "execution_count": null,
   "metadata": {},
   "outputs": [],
   "source": [
    "from dispel4py.dispel4py.base import *\n",
    "from dispel4py.dispel4py.workflow_graph import WorkflowGraph\n",
    "from client import d4pClient,Process\n",
    "import random"
   ]
  },
  {
   "attachments": {},
   "cell_type": "markdown",
   "metadata": {},
   "source": [
    "Create three classes of PEs"
   ]
  },
  {
   "cell_type": "code",
   "execution_count": null,
   "metadata": {},
   "outputs": [],
   "source": [
    "class NumberProducer(ProducerPE):\n",
    "    def __init__(self):\n",
    "        ProducerPE.__init__(self)\n",
    "        \n",
    "    def _process(self, inputs):\n",
    "        # this PE produces one input\n",
    "        result= random.randint(1, 1000)\n",
    "        return result\n",
    "\n",
    "class IsPrime(IterativePE):\n",
    "    def __init__(self):\n",
    "        IterativePE.__init__(self)\n",
    "    def _process(self, num):\n",
    "        # this PE consumes one input and produces one output\n",
    "        self.log(\"before checking data - %s - is prime or not\" % num)\n",
    "        if all(num % i for i in range(2, num)):\n",
    "            return num\n",
    "\n",
    "class PrintPrime(ConsumerPE):\n",
    "    def __init__(self):\n",
    "        ConsumerPE.__init__(self)\n",
    "    def _process(self, num):\n",
    "        # this PE consumes one input\n",
    "        self.log(\"the number %s is prime\" % num)"
   ]
  },
  {
   "attachments": {},
   "cell_type": "markdown",
   "metadata": {},
   "source": [
    "Create PE object from each class and connect together to form a workflow "
   ]
  },
  {
   "cell_type": "code",
   "execution_count": null,
   "metadata": {},
   "outputs": [],
   "source": [
    "client = d4pClient()\n",
    "\n",
    "producer = NumberProducer()\n",
    "isprime = IsPrime()\n",
    "printprime = PrintPrime()\n",
    "\n",
    "graph = WorkflowGraph()\n",
    "graph.connect(producer, 'output', isprime, 'input')\n",
    "graph.connect(isprime, 'output', printprime, 'input')"
   ]
  },
  {
   "attachments": {},
   "cell_type": "markdown",
   "metadata": {},
   "source": [
    "#### Optional: Register workflow \n",
    "\n",
    "This allows you to access the workflow again in the future.\n",
    "\n",
    "Note: registering a workflow automatically registers the PEs in the workflow"
   ]
  },
  {
   "cell_type": "code",
   "execution_count": null,
   "metadata": {},
   "outputs": [],
   "source": [
    "workflow_id = client.register_Workflow(graph,\"primeGraph\")"
   ]
  },
  {
   "attachments": {},
   "cell_type": "markdown",
   "metadata": {},
   "source": [
    "#### Execute Workflow"
   ]
  },
  {
   "attachments": {},
   "cell_type": "markdown",
   "metadata": {},
   "source": [
    "Option 1: Execute workflow directly"
   ]
  },
  {
   "cell_type": "code",
   "execution_count": null,
   "metadata": {},
   "outputs": [],
   "source": [
    "result = client.run(graph,input=5)\n",
    "\n",
    "print(result)"
   ]
  },
  {
   "attachments": {},
   "cell_type": "markdown",
   "metadata": {},
   "source": [
    "Option 2: Retrieve from registry and execute "
   ]
  },
  {
   "cell_type": "code",
   "execution_count": null,
   "metadata": {},
   "outputs": [],
   "source": [
    "workflow = client.get_Workflow(\"primeGraph\")\n",
    "result = client.run(workflow,input=5)\n",
    "print(result)"
   ]
  },
  {
   "attachments": {},
   "cell_type": "markdown",
   "metadata": {},
   "source": [
    "#### Execution Options"
   ]
  },
  {
   "attachments": {},
   "cell_type": "markdown",
   "metadata": {},
   "source": [
    "Simple"
   ]
  },
  {
   "cell_type": "code",
   "execution_count": null,
   "metadata": {},
   "outputs": [],
   "source": [
    "result = client.run(workflow,input=5,process=Process.SIMPLE)\n",
    "print(result)"
   ]
  },
  {
   "attachments": {},
   "cell_type": "markdown",
   "metadata": {},
   "source": [
    "Multi "
   ]
  },
  {
   "cell_type": "code",
   "execution_count": null,
   "metadata": {},
   "outputs": [],
   "source": [
    "\n",
    "\n",
    "from dispel4py.dispel4py.new.multi_process import process as multi_process\n",
    "from easydict import EasyDict as edict\n",
    "\n",
    "args = edict({'num':5, 'simple':False})\n",
    "\n",
    "#client.describe(workflow)\n",
    "\n",
    "#multi_process(graph, {producer: 5}, args)\n",
    "\n",
    "#print(type(workflow))\n",
    "\n",
    "#result = client.run(workflow,input=5,process=Process.MULTI,args={'num':5, 'simple':False})\n",
    "\n",
    "#print(result)"
   ]
  },
  {
   "attachments": {},
   "cell_type": "markdown",
   "metadata": {},
   "source": [
    "Dynamic"
   ]
  },
  {
   "cell_type": "code",
   "execution_count": null,
   "metadata": {},
   "outputs": [],
   "source": [
    "args = {'num':5, 'simple':False, 'redis_ip':'localhost', 'redis_port':'6379'}\n",
    "\n",
    "result = client.run(workflow,input=5,process=Process.DYNAMIC,args=args)\n",
    "\n",
    "print(result)"
   ]
  }
 ],
 "metadata": {
  "kernelspec": {
   "display_name": "Python 3",
   "language": "python",
   "name": "python3"
  },
  "language_info": {
   "codemirror_mode": {
    "name": "ipython",
    "version": 3
   },
   "file_extension": ".py",
   "mimetype": "text/x-python",
   "name": "python",
   "nbconvert_exporter": "python",
   "pygments_lexer": "ipython3",
   "version": "3.9.4 (tags/v3.9.4:1f2e308, Apr  6 2021, 13:40:21) [MSC v.1928 64 bit (AMD64)]"
  },
  "orig_nbformat": 4,
  "vscode": {
   "interpreter": {
    "hash": "c364789c182aef115b4435048eacd5a552e6b9fa177968138d579586f79f02a4"
   }
  }
 },
 "nbformat": 4,
 "nbformat_minor": 2
}
